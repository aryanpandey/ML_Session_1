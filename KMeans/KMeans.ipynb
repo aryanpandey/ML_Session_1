{
 "cells": [
  {
   "cell_type": "markdown",
   "id": "stretch-conversation",
   "metadata": {},
   "source": [
    "# K-Means Clustering and K-Nearest Neighbours\n",
    "\n",
    "In this session we will try to get a high level intuition of how KNN method of classification works and what it is exactly.\n",
    "\n",
    "## So what is K-Means Clustering anyways?\n",
    "It's an unsupervised classfication based Machine Learning algorithm which means you just present the model with some data with no labels or tags\n",
    "and expect it to do the labelling for you.\n",
    "<img src=\"assets/unlabelled.png\" width=\"800px\"/>\n",
    "<br />\n",
    "And once it's done labelleling the dataset you can use this model for new data points to predict which class it comes under.\n",
    "\n",
    "<img src=\"assets/clustering.png\" width=\"800px\"/>\n",
    "\n",
    "#### As shown above a list of point that aren't classified in the beginning get classified by the K-means algorithm and make classes and relations that \n",
    "#### sometimes even humans can't see.\n",
    "\n",
    "### Let's jump right in and make a rudimentary K-means classifier on 1 dimensional data."
   ]
  },
  {
   "cell_type": "code",
   "execution_count": 7,
   "id": "voluntary-enough",
   "metadata": {},
   "outputs": [
    {
     "data": {
      "image/png": "[encoded data removed]",
      "text/plain": [
       "<Figure size 432x288 with 1 Axes>"
      ]
     },
     "metadata": {
      "needs_background": "light"
     },
     "output_type": "display_data"
    }
   ],
   "source": [
    "# Let's start with making a small data set \n",
    "import numpy as np\n",
    "import matplotlib.pyplot as plt\n",
    "\n",
    "data = np.array([1,3,4,6,15,16,18,27,29,31])\n",
    "data_y = np.zeros(len(data))\n",
    "plt.plot(data,data_y,'ko')\n",
    "plt.show()"
   ]
  },
  {
   "cell_type": "code",
   "execution_count": 25,
   "id": "thousand-business",
   "metadata": {},
   "outputs": [
    {
     "name": "stdout",
     "output_type": "stream",
     "text": [
      "red :4, blue: 29, green: 31\n"
     ]
    }
   ],
   "source": [
    "# Now we come to the clustering portion- selecting the k value is usually done by experimentation and variance bias calculations\n",
    "# Since we can clearly see that there are 3 distinct classes let's take k to be equal to 3\n",
    "\n",
    "# Let's select 3 random points\n",
    "import random\n",
    "random_int = random.sample(range(0,10),3)\n",
    "red,blue,green = data[[i for i in random_int]]\n",
    "print(f'red :{red}, blue: {blue}, green: {green}')\n",
    "# we'll call the first index as red, second as blue and third green"
   ]
  },
  {
   "cell_type": "code",
   "execution_count": 28,
   "id": "floral-summary",
   "metadata": {},
   "outputs": [
    {
     "data": {
      "image/png": "[encoded data removed]",
      "text/plain": [
       "<Figure size 432x288 with 1 Axes>"
      ]
     },
     "metadata": {
      "needs_background": "light"
     },
     "output_type": "display_data"
    }
   ],
   "source": [
    "plt.plot(data,data_y,'ko')\n",
    "plt.plot(red,0,'ro')\n",
    "plt.plot(blue,0,'bo')\n",
    "plt.plot(green,0,'go')\n",
    "\n",
    "plt.show()"
   ]
  },
  {
   "cell_type": "code",
   "execution_count": 44,
   "id": "connected-rainbow",
   "metadata": {},
   "outputs": [],
   "source": [
    "# Now we run over the entire list of data points to see which points are closest to which colour\n",
    "\n",
    "def classify(data,red,blue,green,epoch):\n",
    "    for rep in range(epoch):\n",
    "        red_points = []\n",
    "        green_points = []\n",
    "        blue_points = []\n",
    "        for i in data:\n",
    "            \n",
    "            if(abs(i-red)<abs(i-blue)) and (abs(i-red)<abs(i-green)):\n",
    "                red_points.append(i)\n",
    "            elif(abs(i-blue)<abs(i-red)) and (abs(i-blue)<abs(i-green)):\n",
    "                blue_points.append(i)\n",
    "            else:\n",
    "                green_points.append(i)\n",
    "            if len(red_points):\n",
    "                red = sum(red_points)/len(red_points)\n",
    "            if len(blue_points):\n",
    "                blue = sum(blue_points)/len(blue_points)\n",
    "            if len(green_points):\n",
    "                green = sum(green_points)/len(green_points)\n",
    "    return red_points,blue_points,green_points\n",
    "\n",
    "def display(data,colour):\n",
    "    data_y = np.zeros(len(data))\n",
    "    if(colour == 'red'):\n",
    "        plt.plot(data,data_y,'ro')\n",
    "    elif(colour == 'green'):\n",
    "        plt.plot(data,data_y,'go')\n",
    "    else:\n",
    "        plt.plot(data,data_y,'bo')\n",
    "    \n"
   ]
  },
  {
   "cell_type": "code",
   "execution_count": 49,
   "id": "tender-charm",
   "metadata": {},
   "outputs": [
    {
     "data": {
      "image/png": "[encoded data removed]",
      "text/plain": [
       "<Figure size 432x288 with 1 Axes>"
      ]
     },
     "metadata": {
      "needs_background": "light"
     },
     "output_type": "display_data"
    }
   ],
   "source": [
    "# On Iterating once we get this\n",
    "red_points,blue_points,green_points = classify(data,red,blue,green,1)\n",
    "display(red_points,'red')\n",
    "display(blue_points,'blue')\n",
    "display(green_points,'green')\n",
    "plt.show()"
   ]
  },
  {
   "cell_type": "code",
   "execution_count": 50,
   "id": "altered-graph",
   "metadata": {},
   "outputs": [
    {
     "data": {
      "image/png": "[encoded data removed]",
      "text/plain": [
       "<Figure size 432x288 with 1 Axes>"
      ]
     },
     "metadata": {
      "needs_background": "light"
     },
     "output_type": "display_data"
    }
   ],
   "source": [
    "# Upon iterating several times we get the following markings\n",
    "red_points,blue_points,green_points = classify(data,red,blue,green,5)\n",
    "display(red_points,'red')\n",
    "display(blue_points,'blue')\n",
    "display(green_points,'green')\n",
    "plt.show()\n",
    "# Which is pretty much the classes that we can see visually in the first diagram\n",
    "# Pretty cool right"
   ]
  },
  {
   "cell_type": "markdown",
   "id": "designed-campaign",
   "metadata": {},
   "source": [
    "#### Now say we have to classify which class a new data point falls under we just need to find the class that is closest to it\n",
    "#### Basically comparing the new data to red,blue and green points at the end of training\n",
    "\n",
    "\n",
    "## Now we proceed to use this k means classifier on ${some data set}"
   ]
  },
  {
   "cell_type": "code",
   "execution_count": null,
   "id": "aboriginal-column",
   "metadata": {},
   "outputs": [],
   "source": []
  }
 ],
 "metadata": {
  "kernelspec": {
   "display_name": "Python 3",
   "language": "python",
   "name": "python3"
  },
  "language_info": {
   "codemirror_mode": {
    "name": "ipython",
    "version": 3
   },
   "file_extension": ".py",
   "mimetype": "text/x-python",
   "name": "python",
   "nbconvert_exporter": "python",
   "pygments_lexer": "ipython3",
   "version": "3.8.6"
  }
 },
 "nbformat": 4,
 "nbformat_minor": 5
}
