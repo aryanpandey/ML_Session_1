{
 "cells": [
  {
   "cell_type": "markdown",
   "id": "international-northwest",
   "metadata": {},
   "source": [
    "# Support Vector Machines\n",
    "\n",
    "Hey all welcome to session x , Today we'll be covering another machine learning called the SVM majorly used to solve classification problems\n",
    "although this can be used in regressions too.\n",
    "\n",
    "\n",
    "## Support Vector Classifier\n",
    "Let's start this off with something called a support vector classifier.\n",
    "\n",
    "The basic idea of a Support Vector Classifier is to make a decision boundary in between the \"support vectors\" which is basically the \"end points\" of each of the\n",
    "classification regions\n",
    "\n",
    "<img src=\"assets/svedge.png\"></img>\n",
    "\n",
    "Once these support vectors have been found out we take the mean position between this and draw a line to demarcate the decision boundary.\n",
    "\n",
    "<img src=\"assets/svclassify.png\"></img>\n",
    "\n",
    "The problem with doing this is that it varies a lot depending on the data which implies it doesn't do so well with outliers in the dataset, such as this\n",
    "\n",
    "<img src=\"assets/svoutlier.png\"></img>\n",
    "\n",
    "In order to deal with this SV classfiers have \"Soft Margins\" which let outliers exist without making a ridiculously stupid decision boundary.This Soft Margin is decided \n",
    "by using <br>Cross Validation to determine number of outliers to be allowed.\n",
    "\n",
    "<img src=\"assets/svoutlierbound.png\"></img>\n",
    "\n",
    "Sooo.. SV classifiers look cool right since they can handle outliers as well ,well yes but also no. SV classifiers fail to work when there's a lot more overlap <br>than in the above\n",
    "diagrams ,like this\n",
    "\n",
    "<img src=\"assets/svoverlap.png\"></img>\n",
    "\n",
    "These are the sort of problems in which SVMs really shine"
   ]
  },
  {
   "cell_type": "markdown",
   "id": "superior-vermont",
   "metadata": {},
   "source": [
    "## SVMs\n",
    "\n",
    "To deal with this problem SVMs introduce a whole other dimension based off of which making the "
   ]
  }
 ],
 "metadata": {
  "kernelspec": {
   "display_name": "Python 3",
   "language": "python",
   "name": "python3"
  },
  "language_info": {
   "codemirror_mode": {
    "name": "ipython",
    "version": 3
   },
   "file_extension": ".py",
   "mimetype": "text/x-python",
   "name": "python",
   "nbconvert_exporter": "python",
   "pygments_lexer": "ipython3",
   "version": "3.8.6"
  }
 },
 "nbformat": 4,
 "nbformat_minor": 5
}
