{
 "cells": [
  {
   "cell_type": "markdown",
   "id": "intense-therapist",
   "metadata": {},
   "source": [
    "<img src=\"assets/MTXLogo.png\"></img>\n",
    "# Why Python? And Some Basics\n",
    "\n",
    "<img src=\"assets/peethon.png\" width=\"400\"></img>\n",
    "\n",
    "Hey all this is the Session 1 of Intro To Machine Learning, \n",
    "Hopefully by the end of this session you will be able to answer the below questions with relative confidence:\n",
    "\n",
    "    \n",
    "- What is Python?\n",
    "- Why use Python?\n",
    "- How To use Python\n",
    "\n",
    "\n",
    "## What is Python?\n",
    "\n",
    "<img src=\"assets/pythoncode.jpeg\" width=\"800\"></img>\n",
    "\n",
    "Python is a high-level ,dynamically typed programming language. What do these fancy terms you ask? \n",
    "\n",
    "- high-level\n",
    "    > basically python is much closer to spoken english than a more verbose language like CPP.\n",
    "- dynamically typed\n",
    "    > an interpretter converts this high level code to low level machine language without you mentining the types (eg CPP JAVA)\n",
    "\n",
    "\n",
    "Python has a wide range of uses from building web backends to hacking, but the real question is \n",
    "\n",
    "## Why use Python?\n",
    "\n",
    "<img src=\"assets/datascience.jpeg\"></img>\n",
    "\n",
    "rather why should 'we' use python.\n",
    "\n",
    "- Simplicity\n",
    "    > like i said before python is a high level programming language which means converting ideas into functional code is a lot easier than other languages.\n",
    "\n",
    "- Library Support\n",
    "    > Python has a huge data science community backing it because of which frameworks and libraries in python are widely created and maintained. For eg \n",
    "    > you can literally use a lot of ML algorithms with a few lines of code thanks to libs like scikit learn.\n",
    "    \n",
    "\n",
    "Hopefully all this should have been enough to convince you why you should be learning python. Now we proceed to the final part,"
   ]
  },
  {
   "cell_type": "markdown",
   "id": "designing-flight",
   "metadata": {},
   "source": [
    "## How To use Python?\n",
    "\n",
    "Some basic operations and data structures that we will be taking a look at today:\n",
    "    \n",
    "    - Declaring and using variable\n",
    "    - Looping\n",
    "    - Lists\n",
    "    - Tuples\n",
    "    - Dictionaries\n",
    "    - if else statements\n",
    "    - Declaring and using Functions\n"
   ]
  },
  {
   "cell_type": "markdown",
   "id": "lightweight-helping",
   "metadata": {},
   "source": [
    "### 1) Declaring and using variables"
   ]
  },
  {
   "cell_type": "code",
   "execution_count": 1,
   "id": "decimal-business",
   "metadata": {
    "ExecuteTime": {
     "end_time": "2021-02-26T05:51:59.133703Z",
     "start_time": "2021-02-26T05:51:59.131423Z"
    }
   },
   "outputs": [
    {
     "name": "stdout",
     "output_type": "stream",
     "text": [
      "1\n"
     ]
    }
   ],
   "source": [
    "a = 1\n",
    "print(a) # for displaying contents of variable in console below"
   ]
  },
  {
   "cell_type": "code",
   "execution_count": 2,
   "id": "reduced-season",
   "metadata": {
    "ExecuteTime": {
     "end_time": "2021-02-26T05:51:59.208410Z",
     "start_time": "2021-02-26T05:51:59.137636Z"
    }
   },
   "outputs": [
    {
     "name": "stdout",
     "output_type": "stream",
     "text": [
      "3\n"
     ]
    }
   ],
   "source": [
    "b = 2\n",
    "a = a + b \n",
    "print(a)"
   ]
  },
  {
   "cell_type": "markdown",
   "id": "alone-intention",
   "metadata": {},
   "source": [
    "### 2) Looping\n",
    "\n",
    "A loop is just you telling your pc to do a particular task many times (although these tasks needn't necessarily be the same)"
   ]
  },
  {
   "cell_type": "code",
   "execution_count": 3,
   "id": "provincial-health",
   "metadata": {
    "ExecuteTime": {
     "end_time": "2021-02-26T05:51:59.259672Z",
     "start_time": "2021-02-26T05:51:59.209618Z"
    }
   },
   "outputs": [
    {
     "name": "stdout",
     "output_type": "stream",
     "text": [
      "This is a repetitive task\n",
      "1\n",
      "This is a repetitive task\n",
      "2\n",
      "This is a repetitive task\n",
      "3\n",
      "This is a repetitive task\n",
      "4\n"
     ]
    }
   ],
   "source": [
    "for i in range(1,5):\n",
    "    print('This is a repetitive task')\n",
    "    print(i) # value of the iterator at every iteration"
   ]
  },
  {
   "cell_type": "markdown",
   "id": "indonesian-choice",
   "metadata": {},
   "source": [
    "    The variable i is being incremented from the starting value of 1 till it is < 5\n",
    "\n",
    "### 3) Lists\n",
    "\n",
    "    A List is basically a list of elements of any data types, these are the equivalent for what is called an array in other languages"
   ]
  },
  {
   "cell_type": "code",
   "execution_count": 4,
   "id": "blank-pontiac",
   "metadata": {
    "ExecuteTime": {
     "end_time": "2021-02-26T05:51:59.313739Z",
     "start_time": "2021-02-26T05:51:59.261107Z"
    }
   },
   "outputs": [
    {
     "name": "stdout",
     "output_type": "stream",
     "text": [
      "['This', 'is', 'a', 'list', 'of', 'elements']\n"
     ]
    }
   ],
   "source": [
    "list = ['This','is','a','list','of','elements']\n",
    "print(list)"
   ]
  },
  {
   "cell_type": "markdown",
   "id": "smaller-stanley",
   "metadata": {},
   "source": [
    "The data types commonly used in lists include:\n",
    "\n",
    "    - strings\n",
    "    - integers/float\n",
    "    - boolean(eg. True, False)"
   ]
  },
  {
   "cell_type": "code",
   "execution_count": 5,
   "id": "removed-tissue",
   "metadata": {
    "ExecuteTime": {
     "end_time": "2021-02-26T05:51:59.364721Z",
     "start_time": "2021-02-26T05:51:59.315114Z"
    }
   },
   "outputs": [
    {
     "name": "stdout",
     "output_type": "stream",
     "text": [
      "['string', 1, 2.0, True]\n"
     ]
    }
   ],
   "source": [
    "mixedLists = ['string',1,2.0,True]\n",
    "print(mixedLists) # lists can have elements of different data types as well"
   ]
  },
  {
   "cell_type": "code",
   "execution_count": 6,
   "id": "bridal-economics",
   "metadata": {
    "ExecuteTime": {
     "end_time": "2021-02-26T05:51:59.422730Z",
     "start_time": "2021-02-26T05:51:59.365948Z"
    }
   },
   "outputs": [
    {
     "data": {
      "text/plain": [
       "2.0"
      ]
     },
     "execution_count": 6,
     "metadata": {},
     "output_type": "execute_result"
    }
   ],
   "source": [
    "# Accessing elements in a List Index wise\n",
    "\n",
    "mixedLists[2]"
   ]
  },
  {
   "cell_type": "code",
   "execution_count": 7,
   "id": "meaning-start",
   "metadata": {
    "ExecuteTime": {
     "end_time": "2021-02-26T05:51:59.475127Z",
     "start_time": "2021-02-26T05:51:59.423876Z"
    }
   },
   "outputs": [
    {
     "data": {
      "text/plain": [
       "4"
      ]
     },
     "execution_count": 7,
     "metadata": {},
     "output_type": "execute_result"
    }
   ],
   "source": [
    "# Length of a List\n",
    "\n",
    "len(mixedLists)"
   ]
  },
  {
   "cell_type": "markdown",
   "id": "internal-merchant",
   "metadata": {},
   "source": [
    "#### Loops with lists"
   ]
  },
  {
   "cell_type": "code",
   "execution_count": 8,
   "id": "returning-progressive",
   "metadata": {
    "ExecuteTime": {
     "end_time": "2021-02-26T05:51:59.525862Z",
     "start_time": "2021-02-26T05:51:59.476176Z"
    }
   },
   "outputs": [
    {
     "name": "stdout",
     "output_type": "stream",
     "text": [
      "string\n",
      "1\n",
      "2.0\n",
      "True\n"
     ]
    }
   ],
   "source": [
    "for j in mixedLists:\n",
    "    print(j)"
   ]
  },
  {
   "cell_type": "markdown",
   "id": "superb-shore",
   "metadata": {},
   "source": [
    "#### Looping using indexes and modifying values"
   ]
  },
  {
   "cell_type": "code",
   "execution_count": 9,
   "id": "smooth-measurement",
   "metadata": {
    "ExecuteTime": {
     "end_time": "2021-02-26T05:51:59.577015Z",
     "start_time": "2021-02-26T05:51:59.527708Z"
    }
   },
   "outputs": [
    {
     "data": {
      "text/plain": [
       "['hello', 'hello', 'hello', 'hello']"
      ]
     },
     "execution_count": 9,
     "metadata": {},
     "output_type": "execute_result"
    }
   ],
   "source": [
    "for i in range(len(mixedLists)):\n",
    "    mixedLists[i] = 'hello'\n",
    "mixedLists"
   ]
  },
  {
   "cell_type": "markdown",
   "id": "preliminary-hostel",
   "metadata": {},
   "source": [
    "#### Slicing in Lists\n",
    "\n",
    "    The arguements for the slice function are: \n",
    "<img src=\"assets/slice.png\" width=800 height=300>\n"
   ]
  },
  {
   "cell_type": "code",
   "execution_count": 10,
   "id": "residential-davis",
   "metadata": {
    "ExecuteTime": {
     "end_time": "2021-02-26T05:51:59.628371Z",
     "start_time": "2021-02-26T05:51:59.578985Z"
    }
   },
   "outputs": [
    {
     "data": {
      "text/plain": [
       "[3, 4]"
      ]
     },
     "execution_count": 10,
     "metadata": {},
     "output_type": "execute_result"
    }
   ],
   "source": [
    "# SLICING\n",
    "array = [1,2,3,4,5,6,7]\n",
    "\n",
    "slice_arr = array[slice(2,4,1)] # Starts from element 2 to 4\n",
    "\n",
    "slice_arr"
   ]
  },
  {
   "cell_type": "code",
   "execution_count": 11,
   "id": "urban-germany",
   "metadata": {
    "ExecuteTime": {
     "end_time": "2021-02-26T05:51:59.679934Z",
     "start_time": "2021-02-26T05:51:59.629595Z"
    }
   },
   "outputs": [
    {
     "data": {
      "text/plain": [
       "[7, 6, 5]"
      ]
     },
     "execution_count": 11,
     "metadata": {},
     "output_type": "execute_result"
    }
   ],
   "source": [
    "# Better way to understand this \n",
    "\n",
    "slice_obj = slice(-1,-4,-1)  # slice object  -ve numbers is basically the index from the end of the list/string\n",
    "\n",
    "array[slice_obj]"
   ]
  },
  {
   "cell_type": "markdown",
   "id": "conditional-carry",
   "metadata": {},
   "source": [
    "### 4) Tuples"
   ]
  },
  {
   "cell_type": "markdown",
   "id": "municipal-experiment",
   "metadata": {},
   "source": [
    "These are like ordered lists but immutable i.e the values inside a Tuple cannot be modified once they are initialized"
   ]
  },
  {
   "cell_type": "code",
   "execution_count": 12,
   "id": "adapted-college",
   "metadata": {
    "ExecuteTime": {
     "end_time": "2021-02-26T05:51:59.730822Z",
     "start_time": "2021-02-26T05:51:59.681378Z"
    }
   },
   "outputs": [
    {
     "data": {
      "text/plain": [
       "('apple', 'banana', 'pineapple')"
      ]
     },
     "execution_count": 12,
     "metadata": {},
     "output_type": "execute_result"
    }
   ],
   "source": [
    "tuple = (\"apple\",\"banana\",\"pineapple\")\n",
    "tuple"
   ]
  },
  {
   "cell_type": "code",
   "execution_count": 13,
   "id": "indoor-medium",
   "metadata": {
    "ExecuteTime": {
     "end_time": "2021-02-26T05:51:59.781279Z",
     "start_time": "2021-02-26T05:51:59.731978Z"
    }
   },
   "outputs": [
    {
     "name": "stdout",
     "output_type": "stream",
     "text": [
      "apple\n",
      "banana\n",
      "pineapple\n"
     ]
    }
   ],
   "source": [
    "for i in tuple:\n",
    "    print(i)"
   ]
  },
  {
   "cell_type": "markdown",
   "id": "aware-friendship",
   "metadata": {},
   "source": [
    "### 5) If Else Statements\n",
    "\n",
    "These are the statements using which you can make your code evaluate certain conditions and change the course of your code execution\n",
    "\n",
    "<img src=\"assets/ifelse.png\" width=\"800\"></img>\n",
    "\n",
    "The syntax for if statements in python is as follows:"
   ]
  },
  {
   "cell_type": "code",
   "execution_count": 14,
   "id": "driving-protection",
   "metadata": {
    "ExecuteTime": {
     "end_time": "2021-02-26T05:51:59.832276Z",
     "start_time": "2021-02-26T05:51:59.782509Z"
    }
   },
   "outputs": [
    {
     "name": "stdout",
     "output_type": "stream",
     "text": [
      "you're god damn right\n"
     ]
    }
   ],
   "source": [
    "language = \"python\"\n",
    "\n",
    "if language == \"python\":\n",
    "    print(f\"you're god damn right\")\n",
    "else:\n",
    "    print('bruh')"
   ]
  },
  {
   "cell_type": "markdown",
   "id": "minimal-collapse",
   "metadata": {},
   "source": [
    "### 6) F string\n",
    "\n",
    "This is a simple yet very convinient method to print statements with variables"
   ]
  },
  {
   "cell_type": "code",
   "execution_count": 15,
   "id": "patent-promotion",
   "metadata": {
    "ExecuteTime": {
     "end_time": "2021-02-26T05:51:59.883155Z",
     "start_time": "2021-02-26T05:51:59.833498Z"
    }
   },
   "outputs": [
    {
     "name": "stdout",
     "output_type": "stream",
     "text": [
      "The number 1 is smaller than \n",
      " 2 which is smaller than 3\n"
     ]
    }
   ],
   "source": [
    "num_1 = 1\n",
    "num_2 = 2\n",
    "num_3 = 3\n",
    "\n",
    "print(f\"The number {num_1} is smaller than \\n {num_2} which is smaller than {num_3}\")  # \\n is a null terminator which lets you go to the next line"
   ]
  },
  {
   "cell_type": "markdown",
   "id": "aware-anime",
   "metadata": {},
   "source": [
    "### 7) Functions\n",
    "\n",
    "Functions are reusable chunks of code that you can call from other parts of your programs or even inside the function itself (this is called recursion)\n",
    "\n",
    "This is how a python function's syntax looks like:\n",
    "\n",
    "<img src=\"assets/functionsyntax.png\" width=800 height=300>"
   ]
  },
  {
   "cell_type": "code",
   "execution_count": 16,
   "id": "combined-oxide",
   "metadata": {
    "ExecuteTime": {
     "end_time": "2021-02-26T05:52:00.515054Z",
     "start_time": "2021-02-26T05:51:59.885030Z"
    }
   },
   "outputs": [
    {
     "name": "stdout",
     "output_type": "stream",
     "text": [
      "3 is odd\n",
      "4 is even\n",
      "97 is odd\n"
     ]
    }
   ],
   "source": [
    "def evenOrOdd(number):\n",
    "    if number%2 == 0:\n",
    "        return f\"{number} is even\"\n",
    "    else:\n",
    "        return f\"{number} is odd\"\n",
    "    \n",
    "\n",
    "print(evenOrOdd(3))\n",
    "print(evenOrOdd(4))\n",
    "print(evenOrOdd(97))"
   ]
  }
 ],
 "metadata": {
  "kernelspec": {
   "display_name": "Python 3",
   "language": "python",
   "name": "python3"
  },
  "language_info": {
   "codemirror_mode": {
    "name": "ipython",
    "version": 3
   },
   "file_extension": ".py",
   "mimetype": "text/x-python",
   "name": "python",
   "nbconvert_exporter": "python",
   "pygments_lexer": "ipython3",
   "version": "3.8.5"
  },
  "toc": {
   "base_numbering": 1,
   "nav_menu": {},
   "number_sections": true,
   "sideBar": true,
   "skip_h1_title": false,
   "title_cell": "Table of Contents",
   "title_sidebar": "Contents",
   "toc_cell": false,
   "toc_position": {},
   "toc_section_display": true,
   "toc_window_display": false
  },
  "varInspector": {
   "cols": {
    "lenName": 16,
    "lenType": 16,
    "lenVar": 40
   },
   "kernels_config": {
    "python": {
     "delete_cmd_postfix": "",
     "delete_cmd_prefix": "del ",
     "library": "var_list.py",
     "varRefreshCmd": "print(var_dic_list())"
    },
    "r": {
     "delete_cmd_postfix": ") ",
     "delete_cmd_prefix": "rm(",
     "library": "var_list.r",
     "varRefreshCmd": "cat(var_dic_list()) "
    }
   },
   "types_to_exclude": [
    "module",
    "function",
    "builtin_function_or_method",
    "instance",
    "_Feature"
   ],
   "window_display": false
  }
 },
 "nbformat": 4,
 "nbformat_minor": 5
}
