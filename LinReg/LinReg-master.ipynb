{
 "cells": [
  {
   "cell_type": "markdown",
   "metadata": {},
   "source": [
    "# An Introduction to Data Science and Machine Learning \n",
    "\n",
    "Hey everyone! Welcome to the first notebook for this workshop. In this notebook we will be going through the following things:\n",
    "- Introducing the term Machine Learning and understanding it's formal definition\n",
    "- The categories into which any Machine Learning problem can be classified\n",
    "- Understanding and implementing our first Machine Learning Algorithm - Linear Regression with a live example\n",
    "\n",
    "Well, what are we waiting for? Let's begin!!\n",
    "\n",
    "## What is Machine Learning?\n",
    "A computer program is said to learn from experience E with respect to some task T and some performance measure P, if its performance on the task improves with it's experience.\n",
    "\n",
    "Consider this example:\n",
    "\n",
    "<img src=\"Assets/ML_Defn.png\" width=800 height=300>\n",
    "\n",
    "## Types of Machine Learning Problems\n",
    "Now that you know the basic idea behind any Machine Learning problem, a few questions might pop up in your mind. How do we define the task for any situation? How does the model gain experience? How is the performance measured?\n",
    "\n",
    "These exact questions give rise to the different kinds of Machine Learning problems that exist in the real world today. Let us look at two of the major Machine Learning problem types:\n",
    "\n",
    "### Supervised Learning\n",
    "Supervised machine learning algorithms are designed to learn by example. The name “supervised” learning originates from the idea that training this type of algorithm is like having a teacher supervise the whole process.\n",
    "\n",
    "<img src=\"Assets/supervised-machine-learning.png\" width=800 height=300>\n",
    "\n",
    "<img src=\"Assets/DogCat.gif\" width=800 height=300>\n",
    "\n",
    "### Unsupervised Learning\n",
    "Unsupervised learning is the training of machine using information that is neither classified nor labelled and allowing the algorithm to act on that information without guidance. Here the task of machine is to group unsorted information according to similarities, patterns and differences without any prior training of data.\n",
    "\n",
    "<img src=\"Assets/Unsupervised.gif\" width=800 height=300>\n",
    "\n",
    "<img src=\"Assets/supvsunsup.jpg\" width=600 height=200>\n",
    "\n",
    "## Moving on\n",
    "Through the rest of this notebook we will now aim to understand and implement our first Machine Learning Algorithm from scratch. \n",
    "\n",
    "Whenever we stumble upon any Machine Learning problem which is Supervised in nature, we categorise it one of two major categories:\n",
    "- Regression Problem: In these kind of problems, the variable which we want to predict is continuous in nature. For example, Prices of a house, phone, car etc. \n",
    "- Classification Problem: In these kind of problems, the variable which we want to predict is categorical in nature. For example, detecting if a message is spam or not or finding out which breed a dog belongs to\n",
    "\n",
    "Linear Regression is one of the first Machine Learning algorithms you'll learn which addresses Regression problems.\n",
    "\n",
    "**Linear regression** :\n",
    "\n",
    "As the name suggest, a linear regression model maps the output variable with the input variable using a linear function. A simple linear function is of the form y = m*x + c where x and y are the input and output respectively.\n",
    "\n",
    "The parameters m and c define the line equation and hence the goal of the model is to find the optimal values of and m and c such that the given data is best fit. Here best fit doesn't mean that every x is exactly mapped to its corresponding y, but rather the model tries to find the best values of m and c such that the error between the predicted and true values is minimum.\n",
    "\n",
    "Lets consider an example:\n",
    "\n",
    "Suppose we want to predict the price of a house given its area in sq.ft, we treat the price as Y and the input (Area) as X. \n",
    "\n",
    "![2](Assets/2.png)\n",
    "\n",
    "Hence considering the standard form of the line :\n",
    "\n",
    "**Y (Price) = m*X(Area) + c**\n",
    "\n",
    "By finding this line equation, we can predict the price of a house given its area. \n",
    "\n",
    "![1](Assets/1.png)\n",
    "\n",
    "## Cost function:\n",
    "\n",
    "As mentioned above we need to have a metric that evalautes how well the model fits to the given data. This metric is modelled into a function which we call the cost function. So cost function defines how much the line is deviating from the true values. We need to find the parameters of the line (i.e) m and c such that the cost is minimum.\n",
    "\n",
    "Now this cost function is modelled as per the user's desire based on the given problem. Since we are modelling a regression problem the simplest way to define the cost function is the mean squared error.\n",
    "\n",
    "![](Assets/MSE.png)\n",
    "\n",
    "Here N is the total number of points we are trying to fit a line to. y_pred is the predicted values of price outputed from the model. y_true is the true value or ground truth price.\n",
    "\n",
    "------\n",
    "In general we can model the function as:\n",
    "\n",
    "![andrew1](Assets/andrew1.png)\n",
    "\n",
    "**h(x) ---> Y and the parameters m and c correspond to theta1 and theta0 respectively.**\n",
    "Hence the cost function is:\n",
    "![andrew2](Assets/andrew-cost.png)\n",
    "\n",
    "------\n",
    "\n",
    "![error](Assets/cost-error.png)\n",
    "\n",
    "If the blue line represents the current line, then the arrows depict how much it is deviated from the points in the data.\n",
    "\n",
    "## How to find the optimal parameters of the line\n",
    "\n",
    "We have now defined the cost function and hence for every value of m and c, we know the cost/the deviation between the predicted and actual values. Plotting the cost at corresponding values of m and c we get the following graph.\n",
    "\n",
    "![3](Assets/3.png)\n",
    "\n",
    "Now we need to find the optimal values of m and c for which the cost is minimum which is at the minima of the above function. We can’t do this in one iteration i.e we can’t find the optimal value of m and c in one step. Instead its a learning process over multiple iterations which finetunes the parameters for minimum cost.\n",
    "\n",
    "![4](Assets/4.gif)\n",
    "\n",
    "## Gradient Descent — Finding the optimal values of m and c\n",
    "\n",
    "The method of finding the optimal values of m and c is termed as gradient descent. Now lets try to understand this intuitively.\n",
    "\n",
    "Let’s imagine a valley where a person at the top has to reach the bottom of it and the person has no clue as to which direction the minima is.\n",
    "\n",
    "![5](Assets/5.png)\n",
    "\n",
    "When the person is on the left of the minima, the slope at the point at which he is standing is negative. Now suppose we subtract this negative value from the value of m and c at that particular point we can see that m and c would increase (subtracting a negative value basically adds it) and hence the person would move closer to the minima (i.e) to the right. Similarly, if the person is on the right of the minima the slope at that point is positive and hence by subtracting this positive value from m and c, the person would move towards the minima (i.e) to the left.\n",
    "\n",
    "Performing this multiple times will help us reach the bottom of this valley and in case of Linear Regression the bottom of the cost function curve (cost is minimum ). The corresponding values of m and c at this point is the optimal value of m and c.\n",
    "\n",
    "![6](Assets/6.gif)\n",
    "\n",
    "As the person moves closer and closer to the minima the slope would decrease and the person would take smaller and smaller steps. Hence the person can’t reach the exact minima but go as close as possible to it. Hence the aim of a linear regression model should be to reduce the cost as much as possible but since it can never reach the absolute minima, we can stop training once the cost is saturated. (i.e the model can’t improve further).\n",
    "\n",
    "## The Gradient descent algorithm:\n",
    "\n",
    "![](Assets/Grad-Desc-Multi-Var.png)\n",
    "![](Assets/Grad-Desc-Single-Var.png)\n",
    "\n",
    "And that's it!\n",
    "\n",
    "You've learnt your first Machine Learning Algorithm!!!\n",
    "\n",
    "Let's move on to implementing it and getting a feel of what is really happening!\n",
    "\n",
    "Let us start by first importing a few libraries\n",
    "\n",
    "We will share this notebook with you and walk you through the code for analysing and cleaning the data using Pandas followed by a code along for the Linear Regression Algorithm."
   ]
  },
  {
   "cell_type": "code",
   "execution_count": 5,
   "metadata": {},
   "outputs": [],
   "source": [
    "import numpy as np     # Library for numerical computing in Python\n",
    "import pandas as pd    # Library for data handling in Python\n",
    "from sklearn import *        # The all in one library for Machine Learning"
   ]
  },
  {
   "cell_type": "markdown",
   "metadata": {},
   "source": [
    "Let us now load the dataset to work with.\n",
    "\n",
    "Get ready for some Data Science!!"
   ]
  },
  {
   "cell_type": "code",
   "execution_count": 11,
   "metadata": {},
   "outputs": [
    {
     "data": {
      "text/html": [
       "<div>\n",
       "<style scoped>\n",
       "    .dataframe tbody tr th:only-of-type {\n",
       "        vertical-align: middle;\n",
       "    }\n",
       "\n",
       "    .dataframe tbody tr th {\n",
       "        vertical-align: top;\n",
       "    }\n",
       "\n",
       "    .dataframe thead th {\n",
       "        text-align: right;\n",
       "    }\n",
       "</style>\n",
       "<table border=\"1\" class=\"dataframe\">\n",
       "  <thead>\n",
       "    <tr style=\"text-align: right;\">\n",
       "      <th></th>\n",
       "      <th>CRIM</th>\n",
       "      <th>ZN</th>\n",
       "      <th>INDUS</th>\n",
       "      <th>CHAS</th>\n",
       "      <th>NOX</th>\n",
       "      <th>RM</th>\n",
       "      <th>AGE</th>\n",
       "      <th>DIS</th>\n",
       "      <th>RAD</th>\n",
       "      <th>TAX</th>\n",
       "      <th>PTRATIO</th>\n",
       "      <th>B</th>\n",
       "      <th>LSTAT</th>\n",
       "    </tr>\n",
       "  </thead>\n",
       "  <tbody>\n",
       "    <tr>\n",
       "      <th>0</th>\n",
       "      <td>0.00632</td>\n",
       "      <td>18.0</td>\n",
       "      <td>2.31</td>\n",
       "      <td>0.0</td>\n",
       "      <td>0.538</td>\n",
       "      <td>6.575</td>\n",
       "      <td>65.2</td>\n",
       "      <td>4.0900</td>\n",
       "      <td>1.0</td>\n",
       "      <td>296.0</td>\n",
       "      <td>15.3</td>\n",
       "      <td>396.90</td>\n",
       "      <td>4.98</td>\n",
       "    </tr>\n",
       "    <tr>\n",
       "      <th>1</th>\n",
       "      <td>0.02731</td>\n",
       "      <td>0.0</td>\n",
       "      <td>7.07</td>\n",
       "      <td>0.0</td>\n",
       "      <td>0.469</td>\n",
       "      <td>6.421</td>\n",
       "      <td>78.9</td>\n",
       "      <td>4.9671</td>\n",
       "      <td>2.0</td>\n",
       "      <td>242.0</td>\n",
       "      <td>17.8</td>\n",
       "      <td>396.90</td>\n",
       "      <td>9.14</td>\n",
       "    </tr>\n",
       "    <tr>\n",
       "      <th>2</th>\n",
       "      <td>0.02729</td>\n",
       "      <td>0.0</td>\n",
       "      <td>7.07</td>\n",
       "      <td>0.0</td>\n",
       "      <td>0.469</td>\n",
       "      <td>7.185</td>\n",
       "      <td>61.1</td>\n",
       "      <td>4.9671</td>\n",
       "      <td>2.0</td>\n",
       "      <td>242.0</td>\n",
       "      <td>17.8</td>\n",
       "      <td>392.83</td>\n",
       "      <td>4.03</td>\n",
       "    </tr>\n",
       "    <tr>\n",
       "      <th>3</th>\n",
       "      <td>0.03237</td>\n",
       "      <td>0.0</td>\n",
       "      <td>2.18</td>\n",
       "      <td>0.0</td>\n",
       "      <td>0.458</td>\n",
       "      <td>6.998</td>\n",
       "      <td>45.8</td>\n",
       "      <td>6.0622</td>\n",
       "      <td>3.0</td>\n",
       "      <td>222.0</td>\n",
       "      <td>18.7</td>\n",
       "      <td>394.63</td>\n",
       "      <td>2.94</td>\n",
       "    </tr>\n",
       "    <tr>\n",
       "      <th>4</th>\n",
       "      <td>0.06905</td>\n",
       "      <td>0.0</td>\n",
       "      <td>2.18</td>\n",
       "      <td>0.0</td>\n",
       "      <td>0.458</td>\n",
       "      <td>7.147</td>\n",
       "      <td>54.2</td>\n",
       "      <td>6.0622</td>\n",
       "      <td>3.0</td>\n",
       "      <td>222.0</td>\n",
       "      <td>18.7</td>\n",
       "      <td>396.90</td>\n",
       "      <td>5.33</td>\n",
       "    </tr>\n",
       "  </tbody>\n",
       "</table>\n",
       "</div>"
      ],
      "text/plain": [
       "      CRIM    ZN  INDUS  CHAS    NOX     RM   AGE     DIS  RAD    TAX  \\\n",
       "0  0.00632  18.0   2.31   0.0  0.538  6.575  65.2  4.0900  1.0  296.0   \n",
       "1  0.02731   0.0   7.07   0.0  0.469  6.421  78.9  4.9671  2.0  242.0   \n",
       "2  0.02729   0.0   7.07   0.0  0.469  7.185  61.1  4.9671  2.0  242.0   \n",
       "3  0.03237   0.0   2.18   0.0  0.458  6.998  45.8  6.0622  3.0  222.0   \n",
       "4  0.06905   0.0   2.18   0.0  0.458  7.147  54.2  6.0622  3.0  222.0   \n",
       "\n",
       "   PTRATIO       B  LSTAT  \n",
       "0     15.3  396.90   4.98  \n",
       "1     17.8  396.90   9.14  \n",
       "2     17.8  392.83   4.03  \n",
       "3     18.7  394.63   2.94  \n",
       "4     18.7  396.90   5.33  "
      ]
     },
     "execution_count": 11,
     "metadata": {},
     "output_type": "execute_result"
    }
   ],
   "source": [
    "raw_data = sklearn.datasets.load_boston()\n",
    "# Defining the dataframe to work with\n",
    "data = pd.DataFrame(raw_data['data'],       \n",
    "                    columns = ['CRIM','ZN','INDUS','CHAS','NOX','RM','AGE','DIS','RAD','TAX','PTRATIO','B','LSTAT'])      \n",
    "data.head()                                # Getting the first 5 rows of the dataframe"
   ]
  },
  {
   "cell_type": "markdown",
   "metadata": {},
   "source": [
    "Confused about what these column names are?\n",
    "Don't worry, just check this description below:\n",
    "![](assets/Boston.png)\n",
    "\n",
    "MEDV here is what we're going to use for our target variable y."
   ]
  },
  {
   "cell_type": "code",
   "execution_count": 14,
   "metadata": {},
   "outputs": [
    {
     "data": {
      "text/plain": [
       "0    24.0\n",
       "1    21.6\n",
       "2    34.7\n",
       "3    33.4\n",
       "4    36.2\n",
       "dtype: float64"
      ]
     },
     "execution_count": 14,
     "metadata": {},
     "output_type": "execute_result"
    }
   ],
   "source": [
    "target = pd.Series(y)\n",
    "target.head()"
   ]
  },
  {
   "cell_type": "code",
   "execution_count": 13,
   "metadata": {},
   "outputs": [
    {
     "data": {
      "text/plain": [
       "CRIM       0\n",
       "ZN         0\n",
       "INDUS      0\n",
       "CHAS       0\n",
       "NOX        0\n",
       "RM         0\n",
       "AGE        0\n",
       "DIS        0\n",
       "RAD        0\n",
       "TAX        0\n",
       "PTRATIO    0\n",
       "B          0\n",
       "LSTAT      0\n",
       "dtype: int64"
      ]
     },
     "execution_count": 13,
     "metadata": {},
     "output_type": "execute_result"
    }
   ],
   "source": [
    "#Checking for missing values\n",
    "data.isnull().sum()"
   ]
  },
  {
   "cell_type": "markdown",
   "metadata": {},
   "source": [
    "Are there really no missing values?"
   ]
  },
  {
   "cell_type": "code",
   "execution_count": 27,
   "metadata": {},
   "outputs": [
    {
     "data": {
      "text/plain": [
       "CRIM         0\n",
       "ZN         372\n",
       "INDUS        0\n",
       "CHAS       471\n",
       "NOX          0\n",
       "RM           0\n",
       "AGE          0\n",
       "DIS          0\n",
       "RAD          0\n",
       "TAX          0\n",
       "PTRATIO      0\n",
       "B            0\n",
       "LSTAT        0\n",
       "dtype: int64"
      ]
     },
     "execution_count": 27,
     "metadata": {},
     "output_type": "execute_result"
    }
   ],
   "source": [
    "# First calculate the number of non zeros in the data and subtract it from the length fo the dataset\n",
    "506 - data[data == 0].isnull().sum()  "
   ]
  },
  {
   "cell_type": "markdown",
   "metadata": {},
   "source": [
    "Turns out all the missing values were replaced by zeros!\n",
    "\n",
    "Let us replace all these missing values with the mean value for those columns"
   ]
  },
  {
   "cell_type": "code",
   "execution_count": 28,
   "metadata": {},
   "outputs": [
    {
     "data": {
      "text/plain": [
       "CRIM       0\n",
       "ZN         0\n",
       "INDUS      0\n",
       "CHAS       0\n",
       "NOX        0\n",
       "RM         0\n",
       "AGE        0\n",
       "DIS        0\n",
       "RAD        0\n",
       "TAX        0\n",
       "PTRATIO    0\n",
       "B          0\n",
       "LSTAT      0\n",
       "dtype: int64"
      ]
     },
     "execution_count": 28,
     "metadata": {},
     "output_type": "execute_result"
    }
   ],
   "source": [
    "#Replacing all the zeros with NaN values so that it doesn't affect mean calculations\n",
    "data.replace(0, np.nan, inplace = True) \n",
    "\n",
    "data['ZN'].replace(np.nan, data['ZN'].mean(), inplace = True)\n",
    "data['CHAS'].replace(np.nan, data['CHAS'].mean(), inplace = True)\n",
    "\n",
    "#Let us now check for non zero entries once again just to see if the code works\n",
    "506 - data[data == 0].isnull().sum()"
   ]
  },
  {
   "cell_type": "markdown",
   "metadata": {},
   "source": [
    "Looks like what we did works!!\n",
    "\n",
    "Now that we have our dataset ready, let's try making our Machine Learning Model for it\n",
    "\n",
    "This part will be a code along. This is just reference code for now"
   ]
  },
  {
   "cell_type": "code",
   "execution_count": 29,
   "metadata": {},
   "outputs": [
    {
     "name": "stdout",
     "output_type": "stream",
     "text": [
      "(404, 13) (102, 13)\n"
     ]
    }
   ],
   "source": [
    "#Splitting the data for cross validation\n",
    "from sklearn.model_selection import train_test_split\n",
    "X_Train, X_CV, Y_Train, Y_CV = train_test_split(data, target, test_size = 0.2, random_state = 1)\n",
    "print(X_Train.shape, X_CV.shape)"
   ]
  },
  {
   "cell_type": "code",
   "execution_count": 31,
   "metadata": {},
   "outputs": [
    {
     "data": {
      "text/plain": [
       "LinearRegression(n_jobs=-1, normalize=True)"
      ]
     },
     "execution_count": 31,
     "metadata": {},
     "output_type": "execute_result"
    }
   ],
   "source": [
    "from sklearn.linear_model import LinearRegression\n",
    "\n",
    "#Define our Machine Learning model\n",
    "LinReg_Model = LinearRegression(normalize = True, n_jobs = -1)\n",
    "\n",
    "LinReg_Model.fit(X_Train, Y_Train)"
   ]
  },
  {
   "cell_type": "code",
   "execution_count": 32,
   "metadata": {},
   "outputs": [
    {
     "name": "stdout",
     "output_type": "stream",
     "text": [
      "Mean Squared Error:  23.78215858941396\n",
      "R2 Score:  0.7593566042974913\n"
     ]
    }
   ],
   "source": [
    "from sklearn.metrics import mean_squared_error\n",
    "Y_Pred = LinReg_Model.predict(X_CV)\n",
    "\n",
    "print(\"Mean Squared Error: \", mean_squared_error(Y_Pred, Y_CV))\n",
    "print(\"R2 Score: \", LinReg_Model.score(X_CV, Y_CV))"
   ]
  },
  {
   "cell_type": "markdown",
   "metadata": {},
   "source": [
    "That's all for this Session!\n",
    "\n",
    "See you all in Session 2 where we will learn about the Classification Problem and why we need different types of models and evaluation metrics to train those models while exploring 2-3 different models and getting our hands dirty with some hands on code!!!"
   ]
  },
  {
   "cell_type": "code",
   "execution_count": null,
   "metadata": {},
   "outputs": [],
   "source": []
  }
 ],
 "metadata": {
  "kernelspec": {
   "display_name": "Python 3",
   "language": "python",
   "name": "python3"
  },
  "language_info": {
   "codemirror_mode": {
    "name": "ipython",
    "version": 3
   },
   "file_extension": ".py",
   "mimetype": "text/x-python",
   "name": "python",
   "nbconvert_exporter": "python",
   "pygments_lexer": "ipython3",
   "version": "3.8.5"
  }
 },
 "nbformat": 4,
 "nbformat_minor": 4
}
